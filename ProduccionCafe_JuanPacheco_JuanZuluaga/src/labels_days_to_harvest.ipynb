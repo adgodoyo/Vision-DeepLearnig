{
 "cells": [
  {
   "cell_type": "markdown",
   "id": "7fffa2bd",
   "metadata": {},
   "source": [
    "#### Etiquetado para la estimación de la producción de granos de café"
   ]
  },
  {
   "cell_type": "code",
   "execution_count": null,
   "id": "883f86d2",
   "metadata": {},
   "outputs": [
    {
     "name": "stdout",
     "output_type": "stream",
     "text": [
      "✅ CSV generado correctamente en: C:/Users/PC/Desktop/coffee-production-dl/ProduccionCafe_JuanPacheco_JuanZuluaga/data/labeled/days_to_harvest/labels.csv\n",
      "   Rojo: 891, Verde: 891, Total: 1782\n"
     ]
    }
   ],
   "source": [
    "import os\n",
    "import csv\n",
    "import random\n",
    "\n",
    "# Rutas absolutas\n",
    "ruta_rojo = r\"C:/Users/PC/Desktop/coffee-production-dl/ProduccionCafe_JuanPacheco_JuanZuluaga/data/cherries/rojo\"\n",
    "ruta_verde = r\"C:/Users/PC/Desktop/coffee-production-dl/ProduccionCafe_JuanPacheco_JuanZuluaga/data/cherries/verde\"\n",
    "output_csv = r\"C:/Users/PC/Desktop/coffee-production-dl/ProduccionCafe_JuanPacheco_JuanZuluaga/data/labeled/days_to_harvest/labels.csv\"\n",
    "\n",
    "rows = []\n",
    "\n",
    "# Procesar rojos (usar todos, ordenados alfabéticamente)\n",
    "archivos_rojos = sorted([\n",
    "    archivo for archivo in os.listdir(ruta_rojo)\n",
    "    if archivo.lower().endswith(('.png', '.jpg', '.jpeg'))\n",
    "])\n",
    "for archivo in archivos_rojos:\n",
    "    rows.append([archivo, 'rojo', ''])\n",
    "\n",
    "# Procesar verdes (hacer undersampling aleatorio, luego ordenar)\n",
    "archivos_verdes = [\n",
    "    archivo for archivo in os.listdir(ruta_verde)\n",
    "    if archivo.lower().endswith(('.png', '.jpg', '.jpeg'))\n",
    "]\n",
    "random.seed(42)\n",
    "muestra_verdes = sorted(random.sample(archivos_verdes, len(archivos_rojos)))  # Balanceado y ordenado\n",
    "\n",
    "for archivo in muestra_verdes:\n",
    "    rows.append([archivo, 'verde', ''])  \n",
    "\n",
    "os.makedirs(os.path.dirname(output_csv), exist_ok=True)\n",
    "\n",
    "# Escribir CSV\n",
    "with open(output_csv, 'w', newline='', encoding='utf-8') as f:\n",
    "    writer = csv.writer(f)\n",
    "    writer.writerow(['filename', 'class', 'days_to_harvest'])\n",
    "    writer.writerows(rows)\n",
    "\n",
    "print(f\"✅ CSV generado correctamente en: {output_csv}\")\n",
    "print(f\"   Rojo: {len(archivos_rojos)}, Verde: {len(muestra_verdes)}, Total: {len(rows)}\")\n"
   ]
  },
  {
   "cell_type": "markdown",
   "id": "7249f32a",
   "metadata": {},
   "source": [
    "La columna \"days_to_harvest\" se rellenará a mano, viendo cada una de las imagenes. Para determinar los días especifícos, se tomará como referencia los siguientes rangos de valores por clase:\n",
    "\n",
    "- verde\t30 a 90 días (de 1 a 3 meses, según el nivel de desarollo evidenciado) \n",
    "- rojo\t1 a 5 días (listo o casi listo para recolección)"
   ]
  }
 ],
 "metadata": {
  "kernelspec": {
   "display_name": "base",
   "language": "python",
   "name": "python3"
  },
  "language_info": {
   "codemirror_mode": {
    "name": "ipython",
    "version": 3
   },
   "file_extension": ".py",
   "mimetype": "text/x-python",
   "name": "python",
   "nbconvert_exporter": "python",
   "pygments_lexer": "ipython3",
   "version": "3.12.7"
  }
 },
 "nbformat": 4,
 "nbformat_minor": 5
}
